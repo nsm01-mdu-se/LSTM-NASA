{
 "cells": [
  {
   "cell_type": "code",
   "execution_count": null,
   "id": "e2001521-b346-4721-be62-e56cb450a055",
   "metadata": {},
   "outputs": [],
   "source": [
    "from scipy.io import loadmat\n",
    "import math\n",
    "import numpy as np\n",
    "import pandas as pd\n",
    "from datetime import datetime\n",
    "from IPython.display import clear_output\n",
    "from sklearn.preprocessing import MinMaxScaler\n",
    "from tensorflow.keras import Input\n",
    "from tensorflow.keras.models import Sequential\n",
    "from tensorflow.keras.layers import LSTM, Dense, Dropout\n",
    "from sklearn.model_selection import train_test_split\n",
    "import plotly.express as px\n",
    "import matplotlib.pyplot as plt\n",
    "import plotly.graph_objs as go"
   ]
  },
  {
   "cell_type": "markdown",
   "id": "47b37ab5-36d3-4f6e-8831-5e9965d25636",
   "metadata": {},
   "source": [
    "### Display options"
   ]
  },
  {
   "cell_type": "code",
   "execution_count": null,
   "id": "c34f9198-73b2-4e84-96ad-5f9a4dfb5bae",
   "metadata": {},
   "outputs": [],
   "source": [
    "#How the display() function prints the dataframes in the notebook\n",
    "pd.set_option('display.width', 2000)\n",
    "pd.set_option('display.max_rows', 5)"
   ]
  },
  {
   "cell_type": "markdown",
   "id": "fbdba450-9d42-49ad-abd4-9a4e21fdded3",
   "metadata": {},
   "source": [
    "### Battery dataset description"
   ]
  },
  {
   "cell_type": "code",
   "execution_count": null,
   "id": "4393f1be-4800-4a39-9bb1-17b4976f7af8",
   "metadata": {},
   "outputs": [],
   "source": [
    "#MatLab File Data Structure:\n",
    "loadmat(\"NASA_Battery_Data_Files/B0005.mat\", simplify_cells=True)['B0005']['cycle'][1]['data'].keys()\n",
    "\n",
    "#file['__header__', '__version__', '__globals__', 'B0005']\n",
    "#file['B0005']['cycle']\n",
    "#file['B0005']['cycle'][1]['type', 'ambient_temperature', 'time', 'data']\n",
    "#file['B0005']['cycle'][1]['data']['Voltage_measured', 'Current_measured', 'Temperature_measured', 'Current_load', 'Voltage_load', 'Time', 'Capacity']\n",
    "\n",
    "#cycle:\ttop level structure array containing the charge, discharge and impedance operations\n",
    "#\ttype: \toperation  type, can be charge, discharge or impedance\n",
    "#\tambient_temperature:\tambient temperature (degree C)\n",
    "#\ttime: \tthe date and time of the start of the cycle, in MATLAB  date vector format\n",
    "#\tdata:\tdata structure containing the measurements\n",
    "#\t   for charge the fields are:\n",
    "#\t\tVoltage_measured: \tBattery terminal voltage (Volts)\n",
    "#\t\tCurrent_measured:\tBattery output current (Amps)\n",
    "#\t\tTemperature_measured: \tBattery temperature (degree C)\n",
    "#\t\tCurrent_charge:\t\tCurrent measured at charger (Amps)\n",
    "#\t\tVoltage_charge:\t\tVoltage measured at charger (Volts)\n",
    "#\t\tTime:\t\t\tTime vector for the cycle (secs)\n",
    "#\t   for discharge the fields are:\n",
    "#\t\tVoltage_measured: \tBattery terminal voltage (Volts)\n",
    "#\t\tCurrent_measured:\tBattery output current (Amps)\n",
    "#\t\tTemperature_measured: \tBattery temperature (degree C)\n",
    "#\t\tCurrent_charge:\t\tCurrent measured at load (Amps)\n",
    "#\t\tVoltage_charge:\t\tVoltage measured at load (Volts)\n",
    "#\t\tTime:\t\t\tTime vector for the cycle (secs)\n",
    "#\t\tCapacity:\t\tBattery capacity (Ahr) for discharge till 2.7V \n",
    "#\t   for impedance the fields are:\n",
    "#\t\tSense_current:\t\tCurrent in sense branch (Amps)\n",
    "#\t\tBattery_current:\tCurrent in battery branch (Amps)\n",
    "#\t\tCurrent_ratio:\t\tRatio of the above currents \n",
    "#\t\tBattery_impedance:\tBattery impedance (Ohms) computed from raw data\n",
    "#\t\tRectified_impedance:\tCalibrated and smoothed battery impedance (Ohms) \n",
    "#\t\tRe:\t\t\tEstimated electrolyte resistance (Ohms)\n",
    "#\t\tRct:\t\t\tEstimated charge transfer resistance (Ohms)"
   ]
  },
  {
   "cell_type": "markdown",
   "id": "565d4462-b355-43b4-967c-10246da424c2",
   "metadata": {},
   "source": [
    "### Battery data loading function, returns a Pandas dataframe"
   ]
  },
  {
   "cell_type": "code",
   "execution_count": null,
   "id": "ea49c4e0-634b-4ea6-bfd9-40078fec7e70",
   "metadata": {},
   "outputs": [],
   "source": [
    "def loadAsPandas(filename):\n",
    "    lst = []\n",
    "    \n",
    "    #scipy Matlab file loader func\n",
    "    mat = loadmat(\"NASA_Battery_Data_Files/\" + filename, simplify_cells=True)\n",
    "    battery_id = filename.split(\".\")[0]\n",
    "\n",
    "    #Number of cycles, All cycles: charge cycles + discharge cycles + impedance cycles\n",
    "    cycle_count = len(mat[battery_id]['cycle'])\n",
    "    \n",
    "    #Loop through all cycles\n",
    "    for i in range(0, cycle_count):\n",
    "        #Print parsing progress to console\n",
    "        clear_output(wait=True)\n",
    "        print(\"parsing cycle:\", (i+1), \"/\", cycle_count)\n",
    "        \n",
    "        #Skip Impedance cycles\n",
    "        if mat[battery_id]['cycle'][i]['type'] == \"impedance\":\n",
    "            continue\n",
    "\n",
    "        #Number of readings / datapoints in the cycle\n",
    "        readings_count = len(mat[battery_id]['cycle'][i]['data']['Time'])\n",
    "\n",
    "        #type: 'charge', 'dischage'\n",
    "        cycle_type = mat[battery_id]['cycle'][i]['type']\n",
    "\n",
    "        #Loop through all readings for cycle\n",
    "        for j in range(0, readings_count):\n",
    "            time = mat[battery_id]['cycle'][i]['data']['Time'][j]\n",
    "            voltage = mat[battery_id]['cycle'][i]['data']['Voltage_measured'][j]\n",
    "            current = mat[battery_id]['cycle'][i]['data']['Current_measured'][j]\n",
    "            temperature = mat[battery_id]['cycle'][i]['data']['Temperature_measured'][j]\n",
    "            \n",
    "            charge_voltage = None\n",
    "            charge_current = None\n",
    "            load_voltage = None\n",
    "            load_current = None\n",
    "            \n",
    "            if cycle_type == \"charge\":\n",
    "                charge_voltage = mat[battery_id]['cycle'][i]['data']['Voltage_charge'][j]\n",
    "                charge_current = mat[battery_id]['cycle'][i]['data']['Current_charge'][j]\n",
    "            elif cycle_type == \"discharge\":\n",
    "                load_voltage = mat[battery_id]['cycle'][i]['data']['Voltage_load'][j]\n",
    "                load_current = mat[battery_id]['cycle'][i]['data']['Current_load'][j]\n",
    "            \n",
    "            lst.append([i, time, voltage, current, temperature, charge_voltage, charge_current, load_voltage, load_current, cycle_type])\n",
    "            \n",
    "    #Convert list to Pandas dataframe\n",
    "    pdf = pd.DataFrame(lst, columns=['cycle', 'time', 'voltage', 'current', 'temperature', 'charge_voltage', 'charge_current', 'load_voltage', 'load_current', 'type'])\n",
    "    print(\"parsing complete!\")\n",
    "    return pdf"
   ]
  },
  {
   "cell_type": "markdown",
   "id": "0dc6e0dd-c04e-40c7-b1cd-8e5d760870d5",
   "metadata": {},
   "source": [
    "### Select a battery to load data from"
   ]
  },
  {
   "cell_type": "code",
   "execution_count": null,
   "id": "4605be57-1567-4286-b48f-6e77b664e563",
   "metadata": {},
   "outputs": [],
   "source": [
    "B0005 = \"B0005.mat\" #Battery 5\n",
    "B0006 = \"B0006.mat\" #Battery 6\n",
    "B0007 = \"B0007.mat\" #Battery 7\n",
    "B0018 = \"B0018.mat\" #Battery 18\n",
    "\n",
    "pdf = loadAsPandas(B0005)\n",
    "display(pdf)"
   ]
  },
  {
   "cell_type": "markdown",
   "id": "7edff7e7-2195-47e7-8a2d-1baf789fda1e",
   "metadata": {},
   "source": [
    "### Print number of cycles in the set"
   ]
  },
  {
   "cell_type": "code",
   "execution_count": null,
   "id": "2a181cab-cea1-4410-bd39-d39f9b8d634b",
   "metadata": {},
   "outputs": [],
   "source": [
    "print(\"charge cycles: \", pdf[pdf['type'] == 'charge']['cycle'].nunique())\n",
    "print(\"discharge cycles: \", pdf[pdf['type'] == 'discharge']['cycle'].nunique())"
   ]
  },
  {
   "cell_type": "markdown",
   "id": "c8f5a46a-6bb8-4c8d-b3c7-4cda0b2c33f4",
   "metadata": {},
   "source": [
    "### Filter to keep charge cycles only\n"
   ]
  },
  {
   "cell_type": "code",
   "execution_count": null,
   "id": "2c3e439e-54cb-4f44-978e-52b7ce9c61b5",
   "metadata": {},
   "outputs": [],
   "source": [
    "#Extract only charge cycles\n",
    "pdf = (pdf[pdf['type'] == 'charge'])"
   ]
  },
  {
   "cell_type": "markdown",
   "id": "84a58a16-a244-4367-a74c-8b329b54d5f9",
   "metadata": {},
   "source": [
    "### Calculate Ampere-hours for each charge cycle"
   ]
  },
  {
   "cell_type": "code",
   "execution_count": null,
   "id": "c9d67244-1515-4935-b288-b6c0eee19318",
   "metadata": {},
   "outputs": [],
   "source": [
    "#Calculate capacity function\n",
    "def compute_capacity(df):\n",
    "    df['cycle'] = df['cycle']\n",
    "    df['delta_time'] = df['time'].diff().fillna(0)\n",
    "    df['delta_capacity_As'] = df['current'] * df['delta_time']\n",
    "    df['capacity_Ah'] = df['delta_capacity_As'].cumsum() / 3600\n",
    "    return df.drop(columns=['delta_time', 'delta_capacity_As'])\n",
    "\n",
    "#Apply the function grouped by cycle\n",
    "pdf = pdf.sort_values(['cycle', 'time']).reset_index(drop=True)\n",
    "pdf = pdf.groupby('cycle', group_keys=False)[pdf.columns].apply(compute_capacity)\n",
    "\n",
    "display(pdf)\n"
   ]
  },
  {
   "cell_type": "markdown",
   "id": "cc459860-4d06-4981-b528-2011ed379224",
   "metadata": {},
   "source": [
    "### Calculate dQ/dV, highest measured dQ/dV, and timing for the highest measured dQ/dV for each charge cycle"
   ]
  },
  {
   "cell_type": "code",
   "execution_count": null,
   "id": "59ee8b5a-41bf-4ff0-b00b-a7e25e03abb4",
   "metadata": {},
   "outputs": [],
   "source": [
    "#Calculate capacity function\n",
    "def compute_dQdV(df):\n",
    "    df['delta_t'] = df['time'].diff().fillna(0)  # first value will be 0\n",
    "    df['dQ'] = df['current'] * df['delta_t']\n",
    "    df['Q'] = df['dQ'].cumsum()\n",
    "    df['delta_Q'] = df['Q'].diff()\n",
    "    df['delta_V'] = df['voltage'].diff()\n",
    "    \n",
    "    df['dQdV'] = df['delta_Q'] / df['delta_V']\n",
    "    return df.drop(columns=['delta_Q', 'delta_V'])\n",
    "\n",
    "#Apply the function per cycle\n",
    "pdf = pdf.sort_values(['cycle', 'time']).reset_index(drop=True)\n",
    "pdf = pdf.groupby('cycle', group_keys=False)[pdf.columns].apply(compute_dQdV)\n",
    "\n",
    "#Calculate highest measured dQ/dV for each cycle\n",
    "pdf['peak_dQdV'] = pdf.groupby('cycle')['dQdV'].transform('max')\n",
    "\n",
    "#Find the rows when the dQdV peaked for each cycle and extract as a separate dataframe \n",
    "peak_times = pdf.loc[pdf.groupby('cycle')['dQdV'].idxmax(), ['cycle', 'time']]\n",
    "\n",
    "#Rename time column so we don't merge 'time' into 'time'\n",
    "peak_times = peak_times.rename(columns={'time': 'peak_dQdV_time'})\n",
    "\n",
    "#Merge back to original DataFrame\n",
    "pdf = pdf.merge(peak_times, on='cycle')\n",
    "\n",
    "display(pdf)"
   ]
  },
  {
   "cell_type": "markdown",
   "id": "4f719faa-7bf3-441d-9467-5173820d4406",
   "metadata": {},
   "source": [
    "### Extact the last row of each cycle, because capacity increases as the battery is charging we want to grab the last reading to get the total capacity"
   ]
  },
  {
   "cell_type": "code",
   "execution_count": null,
   "id": "b221f196-cead-4ac3-9bd7-1c18da517497",
   "metadata": {},
   "outputs": [],
   "source": [
    "#Select last entry in each group (Has the sumsum Ah for cycle)\n",
    "pdf = pdf.groupby('cycle', group_keys=False).tail(1)\n",
    "\n",
    "#Update cycle numbers 1, 2, 3, ..., n.\n",
    "pdf.loc[:, 'cycle'] = range(1, len(pdf) + 1)\n",
    "\n",
    "display(pdf)"
   ]
  },
  {
   "cell_type": "markdown",
   "id": "3d5c847c-ea5c-46d7-a02b-a42a7e527164",
   "metadata": {},
   "source": [
    "### Plot raw capacity degradation"
   ]
  },
  {
   "cell_type": "code",
   "execution_count": null,
   "id": "074394ea-6b4c-4b86-945f-f3a8fa1aa2ba",
   "metadata": {},
   "outputs": [],
   "source": [
    "fig = px.line(pdf, x='cycle', y='capacity_Ah', markers=True,\n",
    "              title='Ampere-hours over Cycle',\n",
    "              labels={'cycle': 'Cycle', 'capacity_Ah': 'Capacity (Ampere-hours)'})\n",
    "\n",
    "fig.show()"
   ]
  },
  {
   "cell_type": "markdown",
   "id": "1bea9bfd-9156-463d-9844-a596e54983de",
   "metadata": {},
   "source": [
    "### Filter outliers < 1 Ah"
   ]
  },
  {
   "cell_type": "code",
   "execution_count": null,
   "id": "3fed8027-88e9-426f-b8ef-dac5df1e0c26",
   "metadata": {},
   "outputs": [],
   "source": [
    "pdf = pdf[pdf['capacity_Ah'] > 1.0]\n",
    "pdf.loc[:, 'cycle'] = range(1, len(pdf) + 1)\n",
    "\n",
    "fig = px.line(pdf, x='cycle', y='capacity_Ah', markers=True,\n",
    "              title='Ampere-hours over Cycle without outliers',\n",
    "              labels={'cycle': 'Cycle', 'capacity_Ah': 'Capacity (Ampere-hours)'})\n",
    "\n",
    "fig.show()"
   ]
  },
  {
   "cell_type": "markdown",
   "id": "9bb37a39-d3d5-42a1-94cf-1767988bde0a",
   "metadata": {},
   "source": [
    "### Long Short-Term Memory (LSTM) capacity prediction"
   ]
  },
  {
   "cell_type": "code",
   "execution_count": null,
   "id": "ef109bd1-f8a9-4f7c-994c-304def3daeb7",
   "metadata": {},
   "outputs": [],
   "source": [
    "#Features and target feature\n",
    "features = ['capacity_Ah', 'peak_dQdV', 'peak_dQdV_time']\n",
    "target = 'capacity_Ah'\n",
    "look_back = 10\n",
    "\n",
    "#Normalize features into range [0, 1]\n",
    "scaler = MinMaxScaler()\n",
    "scaled_data = scaler.fit_transform(pdf[features])\n",
    "\n",
    "#Create sequences\n",
    "def create_sequences(data, look_back):\n",
    "    X, y = [], []\n",
    "    for i in range(len(data) - look_back):\n",
    "        X.append(data[i:i+look_back])\n",
    "        y.append(data[i+look_back][0])  # target is capacity_Ah\n",
    "    return np.array(X), np.array(y)\n",
    "\n",
    "X, y = create_sequences(scaled_data, look_back)\n",
    "\n",
    "#Split data into train and test subsets\n",
    "split = int(len(X) * 0.7)\n",
    "X_train, X_test = X[:split], X[split:]\n",
    "y_train, y_test = y[:split], y[split:]\n",
    "\n",
    "#LSTM model\n",
    "model = Sequential()\n",
    "model.add(Input(shape=(look_back, X.shape[2])))\n",
    "model.add(LSTM(units=128, return_sequences=True))\n",
    "model.add(Dropout(0.2))\n",
    "model.add(LSTM(units=128))\n",
    "model.add(Dropout(0.2))\n",
    "model.add(Dense(1))\n",
    "\n",
    "model.compile(optimizer='adam', loss='mean_absolute_error')\n",
    "\n",
    "results = model.fit(X_train, y_train, epochs=30, batch_size=16, validation_data=(X_test, y_test))\n",
    "\n",
    "#Generatre predictions\n",
    "y_pred = model.predict(X_test)\n",
    "\n",
    "#Inverse transform predictions (becyase we normalize every datapoint to range [0,1] to work with LSTM we want them back to regular value ranges)\n",
    "dummy = np.zeros((len(y_test), len(features)))\n",
    "dummy[:, 0] = y_pred[:, 0]\n",
    "predicted = scaler.inverse_transform(dummy)[:, 0]\n"
   ]
  },
  {
   "cell_type": "markdown",
   "id": "e396ff4c-9a64-4636-a727-f431be8ef2cd",
   "metadata": {},
   "source": [
    "### Plot the LSTM results, showing how the predicted capacity compared to the actual measured capacity"
   ]
  },
  {
   "cell_type": "code",
   "execution_count": null,
   "id": "bd597a45-3463-45af-b63c-7631bcc641aa",
   "metadata": {},
   "outputs": [],
   "source": [
    "real_list = []\n",
    "pred_list = []\n",
    "len_actual = len(pdf['capacity_Ah'].values)\n",
    "len_predicted = len(predicted)\n",
    "\n",
    "#Fill list for index and actual values\n",
    "for i in range(1, len_actual + 1):\n",
    "    real_list.append([i, pdf['capacity_Ah'].values[i-1]])\n",
    "\n",
    "#Fill list for index and predicted values\n",
    "for i in range((1 + len_actual - len_predicted), len_actual + 1):\n",
    "    pred_list.append([i, predicted[i - (len_actual - len_predicted) - 1]])\n",
    "\n",
    "#Convert lists to Pandas dataframes\n",
    "real_pdf = pd.DataFrame(real_list, columns=['cycle', 'capacity']) \n",
    "pred_pdf = pd.DataFrame(pred_list, columns=['cycle', 'capacity'])\n",
    "\n",
    "#Instantiate figure\n",
    "fig = go.Figure()\n",
    "\n",
    "#Add plot line for actual capacity\n",
    "fig.add_trace(go.Scatter(x=real_pdf['cycle'], y=real_pdf['capacity'], mode='lines', name='Actual Capacity'))\n",
    "\n",
    "#Add plot line for predicted capacity\n",
    "fig.add_trace(go.Scatter(x=pred_pdf['cycle'], y=pred_pdf['capacity'], mode='lines', name='Predicted Capacity'))\n",
    "\n",
    "#Add title and axis text\n",
    "fig.update_layout(\n",
    "    width=1000,\n",
    "    title=\"Actual vs Predicted capacity (Ah)\",\n",
    "    xaxis_title=\"charge cycle\",\n",
    "    yaxis_title=\"capacity (Ah)\"\n",
    ")\n",
    "\n",
    "fig.show()"
   ]
  },
  {
   "cell_type": "markdown",
   "id": "39df2e4d-a09e-4d75-a78f-e3046c9b159c",
   "metadata": {},
   "source": [
    "### Plot the training loss and validation loss for each epoch"
   ]
  },
  {
   "cell_type": "code",
   "execution_count": null,
   "id": "a47afe0c-a6da-4295-9591-b82bf984c58f",
   "metadata": {},
   "outputs": [],
   "source": [
    "print(results.history.keys())\n",
    "plt.plot(results.history['loss'])\n",
    "plt.plot(results.history['val_loss'])\n",
    "plt.title('model loss')\n",
    "plt.ylabel('loss')\n",
    "plt.xlabel('epoch')\n",
    "plt.legend(['training loss', 'validation loss'], loc='upper center')\n",
    "plt.show()"
   ]
  }
 ],
 "metadata": {
  "kernelspec": {
   "display_name": "Python 3 (ipykernel)",
   "language": "python",
   "name": "python3"
  },
  "language_info": {
   "codemirror_mode": {
    "name": "ipython",
    "version": 3
   },
   "file_extension": ".py",
   "mimetype": "text/x-python",
   "name": "python",
   "nbconvert_exporter": "python",
   "pygments_lexer": "ipython3",
   "version": "3.12.2"
  }
 },
 "nbformat": 4,
 "nbformat_minor": 5
}
